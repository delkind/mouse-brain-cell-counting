{
 "cells": [
  {
   "cell_type": "markdown",
   "id": "eb20000e",
   "metadata": {},
   "source": [
    "# Brain Explorer"
   ]
  },
  {
   "cell_type": "code",
   "execution_count": 1,
   "id": "53af7e1c",
   "metadata": {},
   "outputs": [
    {
     "data": {
      "application/vnd.jupyter.widget-view+json": {
       "model_id": "cc1e1b91119e47cfb951782c559d16fe",
       "version_major": 2,
       "version_minor": 0
      },
      "text/plain": [
       "HBox(children=(Button(description='New histogram', layout=Layout(width='auto'), style=ButtonStyle()), Button(d…"
      ]
     },
     "metadata": {},
     "output_type": "display_data"
    },
    {
     "data": {
      "application/vnd.jupyter.widget-view+json": {
       "model_id": "26314a23c332430ebed05211a34c894d",
       "version_major": 2,
       "version_minor": 0
      },
      "text/plain": [
       "Output()"
      ]
     },
     "metadata": {},
     "output_type": "display_data"
    }
   ],
   "source": [
    "import gdown\n",
    "import os\n",
    "from IPython.display import display, HTML\n",
    "\n",
    "data_dir = './'\n",
    "seg_data_dir = './output/sectiondata/data/result'\n",
    "\n",
    "data_file = f'{data_dir}/stats.parquet'\n",
    "section_data_file = f'{data_dir}/../stats-sections.parquet'\n",
    "\n",
    "if not os.path.isfile(data_file):\n",
    "    gdown.download(\"https://drive.google.com/uc?id=1EH--7lSNPs7lxTe5H1pEJr7oLOiQNTqm\", data_file, quiet=False)\n",
    "\n",
    "%matplotlib inline\n",
    "from explorer.brain_data_ui import BrainAggregatesHistogramPlot\n",
    "from explorer.ui import ResultsSelector, RawDataResultsSelector, SectionDataResultsSelector\n",
    "from figures.clean_data import prepare_data\n",
    "from IPython.display import display\n",
    "import ipywidgets as widgets\n",
    "import pandas as pd\n",
    "\n",
    "\n",
    "plot_pane = widgets.Output()\n",
    "\n",
    "def plot_histogram(b):\n",
    "    data = pd.read_parquet(data_file)\n",
    "    selector = ResultsSelector(data)\n",
    "    hist_pane = BrainAggregatesHistogramPlot(data_dir, selector)\n",
    "    with plot_pane:\n",
    "        display(hist_pane)\n",
    "\n",
    "def plot_section_histogram(b):\n",
    "    data = pd.read_parquet(section_data_file)\n",
    "    if clean_data.value:\n",
    "        data = prepare_data(data)\n",
    "    selector = SectionDataResultsSelector(data)\n",
    "    hist_pane = BrainAggregatesHistogramPlot(data_dir, selector)\n",
    "    with plot_pane:\n",
    "        display(hist_pane)\n",
    "\n",
    "def plot_raw_data_histogram(b):\n",
    "    selector = RawDataResultsSelector(data_dir)\n",
    "    hist_pane = BrainAggregatesHistogramPlot(data_dir, selector)\n",
    "    with plot_pane:\n",
    "        display(hist_pane)\n",
    "        \n",
    "new_hist_button = widgets.Button(description='New histogram', layout=widgets.Layout(width='auto'))\n",
    "new_hist_button.on_click(plot_histogram)\n",
    "\n",
    "new_ap_hist_button = widgets.Button(description='New anterior-posterior histogram', layout=widgets.Layout(width='auto'))\n",
    "new_ap_hist_button.on_click(plot_section_histogram)\n",
    "\n",
    "new_plot_button = widgets.Button(description='New raw data histogram', layout=widgets.Layout(width='auto'))\n",
    "new_plot_button.on_click(plot_raw_data_histogram)\n",
    "\n",
    "clear_button = widgets.Button(description='Clear')\n",
    "clear_button.on_click(lambda b: plot_pane.clear_output())\n",
    "\n",
    "clean_data = widgets.Checkbox(value=False, description=\"Clean data\")\n",
    "\n",
    "display(widgets.HBox((new_hist_button, new_ap_hist_button, new_plot_button, clear_button, clean_data)))\n",
    "display(plot_pane)"
   ]
  }
 ],
 "metadata": {
  "kernelspec": {
   "display_name": "Python 3",
   "language": "python",
   "name": "python3"
  },
  "language_info": {
   "codemirror_mode": {
    "name": "ipython",
    "version": 3
   },
   "file_extension": ".py",
   "mimetype": "text/x-python",
   "name": "python",
   "nbconvert_exporter": "python",
   "pygments_lexer": "ipython3",
   "version": "3.6.8"
  }
 },
 "nbformat": 4,
 "nbformat_minor": 5
}