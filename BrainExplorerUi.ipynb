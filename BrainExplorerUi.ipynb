{
 "cells": [
  {
   "cell_type": "markdown",
   "id": "eb20000e",
   "metadata": {},
   "source": [
    "# Brain Explorer"
   ]
  },
  {
   "cell_type": "code",
   "execution_count": null,
   "id": "53af7e1c",
   "metadata": {
    "pycharm": {
     "is_executing": true
    }
   },
   "outputs": [],
   "source": [
    "import gdown\n",
    "import os\n",
    "from allensdk.core.mouse_connectivity_cache import MouseConnectivityCache\n",
    "from IPython.display import display, clear_output\n",
    "\n",
    "mcc = MouseConnectivityCache(manifest_file='./.mouse_connectivity/mouse_connectivity_manifest.json', resolution=25)\n",
    "data_dir = './.mouse_connectivity'\n",
    "tree_file = f\"{data_dir}/tree.pickle\"\n",
    "\n",
    "if not os.path.isfile(tree_file):\n",
    "    gdown.download(\"https://drive.google.com/uc?id=1go1rdESSip2TKT1xFKbYjQRFcCN_IoOq\", tree_file, quiet=False)\n",
    "\n",
    "data_file = f'{data_dir}/stats.parquet'\n",
    "section_data_file = f'{data_dir}/stats-sections.parquet'\n",
    "\n",
    "clear_output()\n",
    "\n",
    "%matplotlib inline\n",
    "from explorer.brain_data_ui import BrainAggregatesHistogramPlot\n",
    "from explorer.ui import ResultsSelector, RawDataResultsSelector, SectionDataResultsSelector\n",
    "from figures.clean_data import prepare_data\n",
    "import ipywidgets as widgets\n",
    "import pandas as pd\n",
    "\n",
    "\n",
    "plot_pane = widgets.Output()\n",
    "\n",
    "def plot_histogram(clean=False, title=\"Histogram\"):\n",
    "    with plot_pane:\n",
    "        if not os.path.isfile(data_file):\n",
    "            gdown.download(\"https://drive.google.com/uc?id=1EH--7lSNPs7lxTe5H1pEJr7oLOiQNTqm\", data_file, quiet=False)\n",
    "\n",
    "        data = pd.read_parquet(data_file)\n",
    "        if clean:\n",
    "            data = prepare_data(data)\n",
    "        selector = ResultsSelector(data)\n",
    "        hist_pane = BrainAggregatesHistogramPlot(data_dir, selector, title)\n",
    "        with plot_pane:\n",
    "            clear_output()\n",
    "            display(hist_pane)\n",
    "\n",
    "def plot_section_histogram(b):\n",
    "    with plot_pane:\n",
    "        if not os.path.isfile(section_data_file):\n",
    "            gdown.download(\"https://drive.google.com/uc?id=1LAIuXA7xKZ0JDbmzesDxvwCqpCztF98Q\", section_data_file, quiet=False)\n",
    "        clear_output()\n",
    "        data = pd.read_parquet(section_data_file)\n",
    "        selector = SectionDataResultsSelector(data)\n",
    "        hist_pane = BrainAggregatesHistogramPlot(data_dir, selector, \"Anterior-Posterior Data Histogram\")\n",
    "        with plot_pane:\n",
    "            display(hist_pane)\n",
    "\n",
    "new_hist_button = widgets.Button(description='New histogram', layout=widgets.Layout(width='auto'))\n",
    "new_hist_button.on_click(lambda b: plot_histogram(False, \"Raw Data Histogram\"))\n",
    "\n",
    "new_clean_hist_button = widgets.Button(description='New filtered data histogram', layout=widgets.Layout(width='auto'))\n",
    "new_clean_hist_button.on_click(lambda b: plot_histogram(True, \"Filtered Data Histogram\"))\n",
    "\n",
    "new_ap_hist_button = widgets.Button(description='New anterior-posterior histogram', layout=widgets.Layout(width='auto'))\n",
    "new_ap_hist_button.on_click(plot_section_histogram)\n",
    "\n",
    "clear_button = widgets.Button(description='Clear')\n",
    "clear_button.on_click(lambda b: plot_pane.clear_output())\n",
    "\n",
    "clean_data = widgets.Checkbox(value=False, description=\"Clean data\")\n",
    "\n",
    "display(widgets.HBox((new_hist_button, new_clean_hist_button, new_ap_hist_button, clear_button)))\n",
    "display(plot_pane)"
   ]
  }
 ],
 "metadata": {
  "kernelspec": {
   "display_name": "Python 3",
   "language": "python",
   "name": "python3"
  },
  "language_info": {
   "codemirror_mode": {
    "name": "ipython",
    "version": 3
   },
   "file_extension": ".py",
   "mimetype": "text/x-python",
   "name": "python",
   "nbconvert_exporter": "python",
   "pygments_lexer": "ipython3",
   "version": "3.6.8"
  }
 },
 "nbformat": 4,
 "nbformat_minor": 5
}